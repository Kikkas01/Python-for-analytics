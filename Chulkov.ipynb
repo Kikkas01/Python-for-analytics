{
 "cells": [
  {
   "cell_type": "markdown",
   "id": "181d23be",
   "metadata": {},
   "source": [
    "#### Урок 1. Задание 1:"
   ]
  },
  {
   "cell_type": "code",
   "execution_count": 6,
   "id": "e89e926f",
   "metadata": {},
   "outputs": [
    {
     "name": "stdout",
     "output_type": "stream",
     "text": [
      "Введите Ваши фамилию, имя, отчество: Чулков Сергей Михайлович\n",
      "ч\n",
      "у\n",
      "л\n",
      "к\n",
      "о\n",
      "в\n",
      "с\n",
      "е\n",
      "р\n",
      "г\n",
      "е\n",
      "й\n",
      "м\n",
      "и\n",
      "х\n",
      "а\n",
      "й\n",
      "л\n",
      "о\n",
      "в\n",
      "и\n",
      "ч\n"
     ]
    }
   ],
   "source": [
    "fio = input(\"Введите Ваши фамилию, имя, отчество: \")\n",
    "for i in fio: \n",
    "    if i.isalpha():\n",
    "        print(i.lower())\n",
    "    else:\n",
    "        continue\n"
   ]
  },
  {
   "cell_type": "markdown",
   "id": "01575986",
   "metadata": {},
   "source": [
    "#### Урок 1. Задание 2:"
   ]
  },
  {
   "cell_type": "code",
   "execution_count": 4,
   "id": "a07d0656",
   "metadata": {},
   "outputs": [
    {
     "data": {
      "text/plain": [
       "'Сумма в евро составит 17.55'"
      ]
     },
     "execution_count": 4,
     "metadata": {},
     "output_type": "execute_result"
    }
   ],
   "source": [
    "def convertation(dollar):\n",
    "    return(f\"Сумма в евро составит {dollar * 1.17:.2f}\")\n",
    "\n",
    "\n",
    "convertation(15)\n",
    "    "
   ]
  },
  {
   "cell_type": "code",
   "execution_count": null,
   "id": "6ab43ad7",
   "metadata": {},
   "outputs": [],
   "source": []
  }
 ],
 "metadata": {
  "kernelspec": {
   "display_name": "Python 3 (ipykernel)",
   "language": "python",
   "name": "python3"
  },
  "language_info": {
   "codemirror_mode": {
    "name": "ipython",
    "version": 3
   },
   "file_extension": ".py",
   "mimetype": "text/x-python",
   "name": "python",
   "nbconvert_exporter": "python",
   "pygments_lexer": "ipython3",
   "version": "3.9.7"
  }
 },
 "nbformat": 4,
 "nbformat_minor": 5
}
